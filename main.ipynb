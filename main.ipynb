{
 "cells": [
  {
   "cell_type": "markdown",
   "id": "4c878e6f-0e25-4c6e-b702-3432f0219de6",
   "metadata": {},
   "source": [
    "## Youtube Data API\n",
    "\n",
    "Add Youtube Functionality to your site\n",
    "\n",
    "Search for content\n",
    "\n",
    "Get the Youtube Channel ID: https://www.streamweasels.com/tools/youtube-channel-id-and-user-id-convertor/"
   ]
  },
  {
   "cell_type": "markdown",
   "id": "ff428e19-a933-4369-ae21-a860a85a4206",
   "metadata": {},
   "source": [
    "## Features\n",
    "\n",
    "- Control the video length"
   ]
  },
  {
   "cell_type": "code",
   "execution_count": null,
   "id": "6d3af70b-b91d-4ee1-8430-1e88214c0ba8",
   "metadata": {},
   "outputs": [],
   "source": [
    "!pip install --upgrade google-api-python-client\n",
    "!pip install --upgrade google-auth-oauthlib google-auth-httplib2\n",
    "!pip install schedule\n",
    "!pip install ffmpeg-python\n",
    "!pip install yt-dlp\n",
    "!pip install unidecode"
   ]
  },
  {
   "cell_type": "code",
   "execution_count": null,
   "id": "e6cf4fb9-8e65-4208-bbe9-2d25927590a1",
   "metadata": {},
   "outputs": [],
   "source": [
    "import pandas as pd\n",
    "import requests\n",
    "import json"
   ]
  },
  {
   "cell_type": "code",
   "execution_count": 8,
   "id": "ce8a0e15-6b27-4235-88b8-41b0b519eba5",
   "metadata": {},
   "outputs": [],
   "source": [
    "import os\n",
    "import googleapiclient.discovery\n",
    "from pprint import pprint \n",
    "import schedule\n",
    "from datetime import datetime, timedelta\n",
    "import time \n",
    "from Youtube import download_audio, download_video\n",
    "from dotenv import load_dotenv\n",
    "\n",
    "API_KEY = os.getenv(\"API_KEY\")\n",
    "API_SERVICE_NAME = \"youtube\"\n",
    "API_VERSION = \"v3\"\n",
    "\n",
    "CHANNEL_ID = \"UCabsTV34JwALXKGMqHpvUiA\" # vtv24h\n",
    "MAX_RESULT = 50\n",
    "\n",
    "def get_channel_info():\n",
    "    youtube = googleapiclient.discovery.build(API_SERVICE_NAME, API_VERSION, developerKey=API_KEY)\n",
    "    request = youtube.channels().list(part=\"snippet\", id=CHANNEL_ID)\n",
    "    response = request.execute()\n",
    "\n",
    "    pprint(response)\n",
    "\n",
    "def get_channel_statistics():\n",
    "    youtube = googleapiclient.discovery.build(API_SERVICE_NAME, API_VERSION, developerKey=API_KEY)\n",
    "    request = youtube.channels().list(part=\"statistics\", id=CHANNEL_ID)\n",
    "    response = request.execute()\n",
    "\n",
    "    pprint(response)\n",
    "\n",
    "def create_video_url(video_id):\n",
    "    return f\"https://www.youtube.com/watch?v={video_id}\"\n",
    "\n",
    "\n",
    "def get_latest_video():\n",
    "    print(\"Fetching latest video \")\n",
    "    youtube = googleapiclient.discovery.build(API_SERVICE_NAME, API_VERSION, developerKey=API_KEY)\n",
    "\n",
    "    yesterday = (datetime.now() - timedelta(days=1)).strftime('%Y-%m-%d') + \"T00:00:00Z\"\n",
    "\n",
    "    video_links = []\n",
    "\n",
    "    try:\n",
    "        # Fetch the latest video published after yesterday\n",
    "        request = youtube.search().list(\n",
    "            q=\"\",\n",
    "            channelId=CHANNEL_ID,\n",
    "            maxResults=MAX_RESULT,\n",
    "            order=\"date\",\n",
    "            publishedAfter=yesterday,\n",
    "            type=\"video\",\n",
    "            part=\"snippet\"\n",
    "        )\n",
    "        response = request.execute()\n",
    "    \n",
    "        print(\"Total number of results: \", response['pageInfo']['totalResults'])\n",
    "    \n",
    "        # Parse the items\n",
    "        for item in response['items']:\n",
    "            video_url = create_video_url(item['id']['videoId'])\n",
    "            title = item['snippet']['title']\n",
    "            desc = item['snippet']['description']\n",
    "            publish_time = item['snippet']['publishedAt']\n",
    "            print(video_url, title, desc, publish_time)\n",
    "            video_links.append(video_url)\n",
    "            \n",
    "    except Exception as e:\n",
    "        print(f\"Error: {str(e)}\")\n",
    "    \n",
    "    return response\n",
    "\n",
    "    # print(\"Download videos\")\n",
    "    # download_video(video_links)\n",
    "\n",
    "# Schedule the task to run every day at 7:00 AM \n",
    "# schedule.every().day.at(\"23:59\").do(get_latest_video)\n",
    "# schedule.every(60).seconds.do(get_latest_video)\n",
    "\n",
    "# get_channel_statistics()\n",
    "# response = get_latest_video()\n",
    "\n",
    "# while True:\n",
    "#     schedule.run_pending()\n",
    "#     time.sleep(1)"
   ]
  },
  {
   "cell_type": "code",
   "execution_count": 9,
   "id": "0456bb16",
   "metadata": {},
   "outputs": [
    {
     "name": "stdout",
     "output_type": "stream",
     "text": [
      "Fetching latest video \n",
      "Total number of results:  37\n",
      "https://www.youtube.com/watch?v=fmDoMNCZWRk Thời sự toàn cảnh tối 9/11: Vì sao phải tăng giá điện? | VTV24 Những nội dung sẽ có trong Thời sự toàn cảnh tối 9/11: 00:00 Tin chính 00:43 Làm khống hồ sơ nghiệm thu xe cơ giới 01:27 Bị ... 2023-11-09T14:00:11Z\n",
      "https://www.youtube.com/watch?v=MT6czwLtz6A Giá bán lẻ điện bình quân tăng 4,5% | VTV24 Từ hôm nay, giá bán lẻ điện bình quân tăng 4,5%. Mức tăng giá này ảnh hưởng thế nào tới người thu nhập thấp, thu nhập trung ... 2023-11-09T12:02:49Z\n",
      "https://www.youtube.com/watch?v=UB0Etn8h7Ek Nhiều cửa hàng bách hóa ở Thượng Hải giảm giá dịp lễ độc thân | VTV24 Ngày 11/11 là ngày độc thân ở Trung Quốc. Bốn số 1 được giải nghĩa giống như bốn cành cây trơ trụi, một cách diễn đạt dành ... 2023-11-09T10:00:21Z\n",
      "https://www.youtube.com/watch?v=BlXKi8TokAU Câu chuyện quốc tế: Sống trong thành phố tương lai | VTV24 Từ việc tái sử dụng những công trình cũ, đến việc sử dụng những công nghệ giảm phát thải... ngành xây dựng trên thế giới đang ... 2023-11-09T09:00:12Z\n",
      "https://www.youtube.com/watch?v=_IvXmJwVolw Ám ảnh những điểm chờ xe bus &quot;tử thần&quot; | VTV24 Không có nhà chờ, không vỉa hè, không hành lang an toàn, là điều không hiếm gặp tại các điểm chờ xe bus tại Hà Nội. 2023-11-09T08:00:26Z\n",
      "https://www.youtube.com/watch?v=Jz2Pyf_Mu5U Triệu chứng bệnh bạch hầu - Căn bệnh đang bùng phát tại nhiều tỉnh thành | VTV24 Bạch hầu là bệnh truyền nhiễm cấp tính nguy hiểm có thể dẫn đến nhiễm độc thần kinh, viêm cơ tim, có thể gây tử vong. Vừa qua ... 2023-11-09T07:00:06Z\n",
      "https://www.youtube.com/watch?v=BXgZqg7kH3A Thời sự toàn cảnh 9/11: Nhiều người đi bộ bất ngờ khi bị phạt | VTV24 Đồng hành cùng VTV Digital tại: Ứng dụng VTVgo Android: https://bit.ly/305aQLs iOS: https://apple.co/3g8yMTS hoặc xem trực ... 2023-11-09T06:18:56Z\n",
      "https://www.youtube.com/watch?v=nNgrs7O4ulo Khớp lệnh 9/11: Uptrend có nên... FOMO? | VTV24 Có nên mua đuổi ngay sau phiên bùng nổ theo đà? Khách mời: Nguyễn Tuấn Anh, Sáng lập FinPeace Host: BTV Tài Phan ... 2023-11-09T05:32:56Z\n",
      "https://www.youtube.com/watch?v=b9BWJv7qgm0 &#39;Cô Khuyết&#39; Anh Thư và xe bánh mì chay truyền năng lượng tích cực | VTV24 Lớn lên trong chùa với tình yêu thương của những người xuất gia, \"cô Khuyết\" nhỏ xíu bước ra đời tự lập với xe bán bánh mì ... 2023-11-09T04:00:13Z\n",
      "https://www.youtube.com/watch?v=AB-6hGqozVo 90% nguy cơ hiện tượng El Nino kéo dài ít nhất đến tháng 4/2024  | VTV24 Ngày 8/11, Tổ chức Khí tượng thế giới (WMO) nhận định hiện tượng thời tiết El Nino đang diễn ra hiện nay sẽ kéo dài đến ít nhất ... 2023-11-09T03:30:05Z\n",
      "https://www.youtube.com/watch?v=bCm0NuFFiys Nỗi lo tai nạn trên tuyến tránh Rạch Giá | VTV24 Tuyến tránh thành phố Rạch Giá, tỉnh Kiên Giang đang xuống cấp, lổn nhổn những ổ voi, ổ gà tiềm ẩn nguy cơ tai nạn giao thông ... 2023-11-09T03:00:28Z\n",
      "https://www.youtube.com/watch?v=9DkyqjVEo2I Sửa đổi Luật Thủ đô, nhiều bài toán cần giải quyết | VTV24 Dự thảo Luật Thủ đô (sửa đổi) sẽ được Chính phủ trình ra Quốc hội tại Kỳ họp thứ 6 đang diễn ra. Nhiều nội dung trong dự thảo ... 2023-11-09T02:30:05Z\n",
      "https://www.youtube.com/watch?v=631pAFH8AvM Kẽ hở trong quản lý ví điện tử | VTV24 Có nhiều kẽ hở trong hoạt động quản lý ví điện tử đã bị các đối tượng lợi dụng để thực hiện các hành vi phạm tội trên không gian ... 2023-11-09T02:00:05Z\n",
      "https://www.youtube.com/watch?v=0YGUTX-nBt0 Giải cứu 6 người trên tàu cá bị chìm ở Côn Đảo | VTV24 Ngày 8/11, Bộ Tư lệnh Vùng Cảnh sát biển 3 cho biết vừa cứu sống một bé trai 3 tuổi cùng 5 thuyền viên trên tàu cá bị chìm gần ... 2023-11-09T02:00:00Z\n",
      "https://www.youtube.com/watch?v=tmrKjIQ2KGY Thế giới toàn cảnh 9/11: G7 tìm giải pháp cho các điểm nóng xung đột | VTV24 Toàn cảnh thế giới ngày 9/11 với những thông tin cập nhật và tổng hợp 00:00 Giới thiệu tin chính 00:47 Trung Quốc, Nga thúc ... 2023-11-09T01:32:41Z\n",
      "https://www.youtube.com/watch?v=AvCGIsz3IMs Liên tục những vụ vật nuôi tấn công người - Thú cưng hay thú dữ | VTV24 Tình trạng chó dữ cắn người không chỉ đến từ sự bất cẩn, thiếu trách nhiệm của chủ nuôi mà còn do sự thiếu kiên quyết, nghiêm ... 2023-11-09T01:00:03Z\n",
      "https://www.youtube.com/watch?v=lyUQ0z9kor8 Nghi vấn nổ mìn làm đường gây nứt nhà dân | VTV24 Hơn 50 nhà dân ở xã Giới Phiên, TP Yên Bái, tỉnh Yên Bái đột nhiên xuất hiện nhiều vết nứt vỡ. Người dân nghi ngờ do việc nổ ... 2023-11-09T00:00:23Z\n",
      "https://www.youtube.com/watch?v=WhZqBtQ_Luw Xây nhà từ bùn và đất sét trở lại ở Hungary | VTV24 Bỏ qua xu hướng bê tông hóa, quay lại với các vật liệu thân thiện môi trường, những ngôi nhà bằng bùn và đất sét đang dần trở ... 2023-11-08T16:12:59Z\n",
      "https://www.youtube.com/watch?v=uLcu2f3iCK8 Niềm hy vọng là chiếc la bàn định hướng trên Trái Đất này | VTV24 \"Niềm hy vọng là chiếc la bàn định hướng trên Trái Đất này, và thành công sẽ chỉ đến vì lòng dũng cảm. Chỉ cần chúng ta có niềm ... 2023-11-08T15:35:26Z\n",
      "https://www.youtube.com/watch?v=xuHTwZXYn_g Nhiều sinh viên tốt nghiệp xuất sắc vẫn phải đào tạo lại | VTV24 Vì sao sinh viên tốt nghiệp loại giỏi, xuất sắc đi làm vẫn phải đào tạo lại? Liệu có khoảng cách nào giữa đào tạo trên ghế nhà ... 2023-11-08T15:30:25Z\n",
      "https://www.youtube.com/watch?v=TMI7cHxQhqY Thời sự toàn cảnh TỐI 8/11: Cận cảnh chip 5G của Việt Nam thực hiện 1.000 tỷ phép tính/giây | VTV24 Thời sự toàn cảnh TỐI 8/11 có các nội dung sau: - Cảnh báo hiện tượng thương lái mua sầu riêng non với giá cao bất ngờ - Giả ... 2023-11-08T14:00:11Z\n",
      "https://www.youtube.com/watch?v=CT-3N4fCxIY Từng là món ăn của người nghèo, tôm hùm lột xác thành món ăn của nhà giàu | Điểm tựa tài chính #10 Tôm hùm từng được xem là món ăn của người nghèo và tù nhân thế kỉ 19 vì không được ưa chuộng. Những người lao động ở ... 2023-11-08T12:00:09Z\n",
      "https://www.youtube.com/watch?v=lBqQK5lz4EY &quot;Cuộc chiến không giới tuyến&quot; kết thúc với nhiều cảm xúc | VTV24 Chỉ là một bộ phim nhưng lại đem đến quá nhiều cảm xúc chân thực cho khán giả. ---------- Đồng hành cùng VTV Digital tại: Ứng ... 2023-11-08T08:30:13Z\n",
      "https://www.youtube.com/watch?v=d3T6cMFm8YY Pháp: Nước lũ dâng cao, nhấn chìm nhiều ngôi nhà trong biển nước  | VTV24 Đây là hậu quả của cơn bão Ciaran khiến mưa lớn kéo dài trong nhiều ngày tại Pháp ---------- Đồng hành cùng VTV Digital tại: ... 2023-11-08T08:00:18Z\n",
      "https://www.youtube.com/watch?v=5h6sbii3szo Hà Nội: Hàng trăm bệnh nhân bị viêm da kích ứng do tiếp xúc với kiến ba khoang| VTV24 Triệu chứng đau rát, mẩn đỏ dễ nhầm với bệnh zona nên người bệnh tự điều trị khiến vết thương lan rộng, hậu quả khôn lường. 2023-11-08T07:27:27Z\n",
      "https://www.youtube.com/watch?v=DPOm4yjqfDc Bí mật đồng tiền mùa 2: Đất đai never sai?  | VTV24 Cổ phiếu bất động sản sẽ biến động theo chu kỳ: Mỗi chu kỳ có thể kéo dài từ 07 - 10 năm, bao gồm: giai đoạn phục hồi, giai ... 2023-11-08T06:35:12Z\n",
      "https://www.youtube.com/watch?v=_ImHP3ns8OY Thời sự toàn cảnh 8/11:  Máy bay ở Đà Nẵng dừng cất cánh vì hành khách tung tin có súng | VTV24 Đồng hành cùng VTV Digital tại: Ứng dụng VTVgo Android: https://bit.ly/305aQLs iOS: https://apple.co/3g8yMTS hoặc xem trực ... 2023-11-08T06:03:41Z\n",
      "https://www.youtube.com/watch?v=EPzaznr8bSA Thủ tướng báo cáo Quốc hội: Tốc độ tăng GDP không đạt do nhiều tác động | VTV24 Thủ tướng Phạm Minh Chính nêu rõ, tốc độ tăng trưởng tổng sản phẩm trong nước (GDP) năm 2023 không đạt mục tiêu đề ra, ... 2023-11-08T05:24:36Z\n",
      "https://www.youtube.com/watch?v=1yF4cGr5omM Cướp ngân hàng, tiệm vàng gần như là bị bắt nhưng tại sao các đối tượng vẫn manh động? | VTV24 Nhiều vụ cướp ngân hàng, tiệm vàng liều lĩnh: Cần nâng cao cảnh giác. ---------- Đồng hành cùng VTV Digital tại: Ứng dụng ... 2023-11-08T04:30:00Z\n",
      "https://www.youtube.com/watch?v=b0ZVRN5VLE8 Bộ trưởng GD-ĐT: Không nói thêm việc biên soạn một bộ SGK của Nhà nước | VTV24 Đại biểu tiếp tục đề nghị Bộ GD-ĐT phải biên soạn một bộ sách giáo khoa, cạnh tranh lành mạnh với các bộ sách khác để hết ... 2023-11-08T04:05:47Z\n",
      "https://www.youtube.com/watch?v=B4gDGGQaJFs ĐBQH tranh luận về phim “Đất rừng phương Nam”: Không có lửa làm sao có khói? | VTV24 Nói về bộ phim Đất rừng phương Nam, đại biểu Quốc hội Trịnh Xuân An cho rằng, chất lượng kiểm định và trách nhiệm chưa cao ... 2023-11-08T03:41:10Z\n",
      "https://www.youtube.com/watch?v=kH5WoM9rQ1A Xe buýt dành riêng cho những chú chó | VTV24 Tại Brazil, chó cũng có xe buýt riêng khi \"đến trường\". Đây là dịch vụ của một trung tâm chuyên huấn luyện và cung cấp dịch vụ ... 2023-11-08T03:30:14Z\n",
      "https://www.youtube.com/watch?v=PYXz0Dc4koE Khám phá thị trấn của vàng | VTV24 Có một nơi mà khi tới đó các bạn sẽ có cơ hội được tự tay đãi cát tìm vàng, và nếu tìm thấy, bạn có thể mang thành quả của mình ... 2023-11-08T03:00:13Z\n",
      "https://www.youtube.com/watch?v=r8YsUtTWD84 KOREA FIRST BRAND AWARDS 2024 - Hãy chọn thương hiệu Hàn Quốc mà bạn kỳ vọng sẽ dẫn đầu năm 2024! KOREA FIRST BRAND AWARDS 2024 - Hãy chọn thương hiệu Hàn Quốc mà bạn kỳ vọng sẽ dẫn đầu năm 2024! 2023-11-08T02:35:28Z\n",
      "https://www.youtube.com/watch?v=XkXS18mAhYE &quot;Thể hiện bản lĩnh&quot; hay đang &quot;đùa với tử thần&#39;? | VTV24 Dù biết tuyến đường vành đai trên cao không dành cho mình nhưng rất nhiều tay ga thích thú \"thể hiện bản lĩnh\" lái xe với tốc độ ... 2023-11-08T02:30:17Z\n",
      "https://www.youtube.com/watch?v=puxflOPwp8U Dư luận đánh giá cao hoạt động chất vấn Quốc hội | VTV24 Đồng hành cùng VTV Digital tại: Ứng dụng VTVgo Android: https://bit.ly/305aQLs iOS: https://apple.co/3g8yMTS hoặc xem trực ... 2023-11-08T02:00:27Z\n",
      "https://www.youtube.com/watch?v=xD7yGlTyAb8 Thế giới toàn cảnh 8/11: Tại sao Nga lại rút khỏi hiệp ước quân sự tại châu Âu? | VTV24 Toàn cảnh thế giới ngày 8/11 với những thông tin cập nhật và tổng hợp: 00:00 Tin chính 00:37 Nga rút khỏi hiệp ước quân sự tại ... 2023-11-08T01:41:07Z\n"
     ]
    }
   ],
   "source": [
    "response = get_latest_video()"
   ]
  },
  {
   "cell_type": "code",
   "execution_count": 10,
   "id": "e3979bd1",
   "metadata": {},
   "outputs": [
    {
     "data": {
      "text/plain": [
       "37"
      ]
     },
     "execution_count": 10,
     "metadata": {},
     "output_type": "execute_result"
    }
   ],
   "source": [
    "len(response['items'])"
   ]
  },
  {
   "cell_type": "markdown",
   "id": "ab2f894e-13e5-4f79-bdd8-04457ea3db33",
   "metadata": {},
   "source": [
    "## Download Video/Audio"
   ]
  },
  {
   "cell_type": "code",
   "execution_count": null,
   "id": "d1b11b96-bd0b-4e06-ae55-c0ce78adb80b",
   "metadata": {},
   "outputs": [],
   "source": [
    "from Youtube import download_audio, download_video\n",
    "URLS = [\"https://www.youtube.com/watch?v=mklY28SqTzc\"]\n",
    "download_audio(URLS)\n",
    "download_video(URLS)"
   ]
  }
 ],
 "metadata": {
  "kernelspec": {
   "display_name": "Python 3 (ipykernel)",
   "language": "python",
   "name": "python3"
  },
  "language_info": {
   "codemirror_mode": {
    "name": "ipython",
    "version": 3
   },
   "file_extension": ".py",
   "mimetype": "text/x-python",
   "name": "python",
   "nbconvert_exporter": "python",
   "pygments_lexer": "ipython3",
   "version": "3.8.18"
  }
 },
 "nbformat": 4,
 "nbformat_minor": 5
}
