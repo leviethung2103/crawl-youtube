{
 "cells": [
  {
   "cell_type": "markdown",
   "id": "4c878e6f-0e25-4c6e-b702-3432f0219de6",
   "metadata": {},
   "source": [
    "## Youtube Data API\n",
    "\n",
    "Add Youtube Functionality to your site\n",
    "\n",
    "Search for content\n",
    "\n",
    "Get the Youtube Channel ID: https://www.streamweasels.com/tools/youtube-channel-id-and-user-id-convertor/"
   ]
  },
  {
   "cell_type": "markdown",
   "id": "ff428e19-a933-4369-ae21-a860a85a4206",
   "metadata": {},
   "source": [
    "## Features\n",
    "\n",
    "- Control the video length"
   ]
  },
  {
   "cell_type": "code",
   "execution_count": null,
   "id": "d75eed37-8d0f-4152-9e41-b5f7e5f6ac53",
   "metadata": {},
   "outputs": [],
   "source": [
    "!pip install unidecode"
   ]
  },
  {
   "cell_type": "code",
   "execution_count": null,
   "id": "6d3af70b-b91d-4ee1-8430-1e88214c0ba8",
   "metadata": {},
   "outputs": [],
   "source": [
    "!pip install --upgrade google-api-python-client\n",
    "!pip install --upgrade google-auth-oauthlib google-auth-httplib2\n",
    "!pip install schedule\n",
    "!pip install ffmpeg-python\n",
    "!pip install yt-dlp\n",
    "!pip install unidecode"
   ]
  },
  {
   "cell_type": "code",
   "execution_count": null,
   "id": "e6cf4fb9-8e65-4208-bbe9-2d25927590a1",
   "metadata": {},
   "outputs": [],
   "source": [
    "import pandas as pd\n",
    "import requests\n",
    "import json"
   ]
  },
  {
   "cell_type": "code",
   "execution_count": null,
   "id": "ce8a0e15-6b27-4235-88b8-41b0b519eba5",
   "metadata": {},
   "outputs": [],
   "source": [
    "import os\n",
    "import googleapiclient.discovery\n",
    "from pprint import pprint \n",
    "import schedule\n",
    "from datetime import datetime, timedelta\n",
    "import time \n",
    "from Youtube import download_audio, download_video\n",
    "\n",
    "API_KEY = \"\"\n",
    "API_SERVICE_NAME = \"youtube\"\n",
    "API_VERSION = \"v3\"\n",
    "\n",
    "CHANNEL_ID = \"UCabsTV34JwALXKGMqHpvUiA\" # vtv24h\n",
    "MAX_RESULT = 10\n",
    "\n",
    "def get_channel_info():\n",
    "    youtube = googleapiclient.discovery.build(API_SERVICE_NAME, API_VERSION, developerKey=API_KEY)\n",
    "    request = youtube.channels().list(part=\"snippet\", id=CHANNEL_ID)\n",
    "    response = request.execute()\n",
    "\n",
    "    pprint(response)\n",
    "\n",
    "def get_channel_statistics():\n",
    "    youtube = googleapiclient.discovery.build(API_SERVICE_NAME, API_VERSION, developerKey=API_KEY)\n",
    "    request = youtube.channels().list(part=\"statistics\", id=CHANNEL_ID)\n",
    "    response = request.execute()\n",
    "\n",
    "    pprint(response)\n",
    "\n",
    "def create_video_url(video_id):\n",
    "    return f\"https://www.youtube.com/watch?v={video_id}\"\n",
    "\n",
    "\n",
    "def get_latest_video():\n",
    "    print(\"Fetching latest video \")\n",
    "    youtube = googleapiclient.discovery.build(API_SERVICE_NAME, API_VERSION, developerKey=API_KEY)\n",
    "\n",
    "    yesterday = (datetime.now() - timedelta(days=1)).strftime('%Y-%m-%d') + \"T00:00:00Z\"\n",
    "\n",
    "    video_links = []\n",
    "\n",
    "    try:\n",
    "        # Fetch the latest video published after yesterday\n",
    "        request = youtube.search().list(\n",
    "            q=\"\",\n",
    "            channelId=CHANNEL_ID,\n",
    "            maxResults=MAX_RESULT,\n",
    "            order=\"date\",\n",
    "            publishedAfter=yesterday,\n",
    "            type=\"video\",\n",
    "            part=\"snippet\"\n",
    "        )\n",
    "        response = request.execute()\n",
    "    \n",
    "        print(\"Total number of results: \", response['pageInfo']['totalResults'])\n",
    "    \n",
    "        # Parse the items\n",
    "        for item in response['items']:\n",
    "            video_url = create_video_url(item['id']['videoId'])\n",
    "            title = item['snippet']['title']\n",
    "            desc = item['snippet']['description']\n",
    "            publish_time = item['snippet']['publishedAt']\n",
    "            print(video_url, title, desc, publish_time)\n",
    "            video_links.append(video_url)\n",
    "            \n",
    "    except Exception as e:\n",
    "        print(f\"Error: {str(e)}\")\n",
    "\n",
    "    print(\"Download videos\")\n",
    "    download_video(video_links)\n",
    "\n",
    "# Schedule the task to run every day at 7:00 AM \n",
    "schedule.every().day.at(\"23:59\").do(get_latest_video)\n",
    "# schedule.every(60).seconds.do(get_latest_video)\n",
    "\n",
    "# get_channel_statistics()\n",
    "# response = get_latest_video()\n",
    "\n",
    "while True:\n",
    "    schedule.run_pending()\n",
    "    time.sleep(1)"
   ]
  },
  {
   "cell_type": "markdown",
   "id": "ab2f894e-13e5-4f79-bdd8-04457ea3db33",
   "metadata": {},
   "source": [
    "## Download Video/Audio"
   ]
  },
  {
   "cell_type": "code",
   "execution_count": null,
   "id": "d1b11b96-bd0b-4e06-ae55-c0ce78adb80b",
   "metadata": {},
   "outputs": [],
   "source": [
    "from Youtube import download_audio, download_video\n",
    "URLS = [\"https://www.youtube.com/watch?v=mklY28SqTzc\"]\n",
    "download_audio(URLS)\n",
    "download_video(URLS)"
   ]
  }
 ],
 "metadata": {
  "kernelspec": {
   "display_name": "Python 3 (ipykernel)",
   "language": "python",
   "name": "python3"
  },
  "language_info": {
   "codemirror_mode": {
    "name": "ipython",
    "version": 3
   },
   "file_extension": ".py",
   "mimetype": "text/x-python",
   "name": "python",
   "nbconvert_exporter": "python",
   "pygments_lexer": "ipython3",
   "version": "3.8.18"
  }
 },
 "nbformat": 4,
 "nbformat_minor": 5
}
